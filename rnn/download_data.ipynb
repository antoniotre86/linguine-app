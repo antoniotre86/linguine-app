{
 "cells": [
  {
   "cell_type": "code",
   "execution_count": 3,
   "metadata": {},
   "outputs": [],
   "source": [
    "import urllib3\n",
    "import pickle"
   ]
  },
  {
   "cell_type": "code",
   "execution_count": 6,
   "metadata": {},
   "outputs": [],
   "source": [
    "OUTPUT_DIR = './data/'"
   ]
  },
  {
   "cell_type": "code",
   "execution_count": 7,
   "metadata": {},
   "outputs": [
    {
     "data": {
      "text/plain": [
       "['2',\n",
       " '1080',\n",
       " '&c',\n",
       " '10-point',\n",
       " '10th',\n",
       " '11-point',\n",
       " '12-point',\n",
       " '16-point',\n",
       " '18-point',\n",
       " '1st']"
      ]
     },
     "execution_count": 7,
     "metadata": {},
     "output_type": "execute_result"
    }
   ],
   "source": [
    "html = urllib3.PoolManager()\n",
    "resp = html.request('GET', 'https://github.com/dwyl/english-words/blob/master/words.txt?raw=true')\n",
    "\n",
    "eng_words = resp.data.decode('utf-8').split('\\n')\n",
    "eng_words[:10]"
   ]
  },
  {
   "cell_type": "code",
   "execution_count": 8,
   "metadata": {},
   "outputs": [],
   "source": [
    "with open(OUTPUT_DIR + 'english_words.pk', 'wb') as foow:\n",
    "    pickle.dump(eng_words, foow)"
   ]
  },
  {
   "cell_type": "code",
   "execution_count": 9,
   "metadata": {},
   "outputs": [
    {
     "data": {
      "text/plain": [
       "['abaca',\n",
       " 'abachi',\n",
       " 'abachista',\n",
       " 'abachiste',\n",
       " 'abachisti',\n",
       " 'abaco',\n",
       " 'abadessa',\n",
       " 'abadesse',\n",
       " 'abadia',\n",
       " 'abadie']"
      ]
     },
     "execution_count": 9,
     "metadata": {},
     "output_type": "execute_result"
    }
   ],
   "source": [
    "resp1 = html.request('GET', 'https://github.com/napolux/paroleitaliane/blob/master/paroleitaliane/660000_parole_italiane.txt?raw=true')\n",
    "\n",
    "it_words = resp1.data.decode('utf-8').split('\\n')\n",
    "it_words[:10]"
   ]
  },
  {
   "cell_type": "code",
   "execution_count": 10,
   "metadata": {},
   "outputs": [],
   "source": [
    "with open(OUTPUT_DIR + 'italian_words.pk', 'wb') as foow:\n",
    "    pickle.dump(it_words, foow)"
   ]
  },
  {
   "cell_type": "code",
   "execution_count": null,
   "metadata": {},
   "outputs": [],
   "source": []
  },
  {
   "cell_type": "code",
   "execution_count": null,
   "metadata": {},
   "outputs": [],
   "source": []
  },
  {
   "cell_type": "code",
   "execution_count": null,
   "metadata": {},
   "outputs": [],
   "source": []
  }
 ],
 "metadata": {
  "kernelspec": {
   "display_name": "Python [conda env:general_eda]",
   "language": "python",
   "name": "conda-env-general_eda-py"
  },
  "language_info": {
   "codemirror_mode": {
    "name": "ipython",
    "version": 3
   },
   "file_extension": ".py",
   "mimetype": "text/x-python",
   "name": "python",
   "nbconvert_exporter": "python",
   "pygments_lexer": "ipython3",
   "version": "3.7.3"
  }
 },
 "nbformat": 4,
 "nbformat_minor": 4
}
